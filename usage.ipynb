{
 "cells": [
  {
   "cell_type": "markdown",
   "metadata": {},
   "source": [
    "## MESO-SCOPE Meta-transcriptomic counts"
   ]
  },
  {
   "cell_type": "markdown",
   "metadata": {},
   "source": [
    "There are two scripts in this folder"
   ]
  },
  {
   "cell_type": "code",
   "execution_count": 2,
   "metadata": {},
   "outputs": [
    {
     "name": "stdout",
     "output_type": "stream",
     "text": [
      "-rwxr-xr-x. 1 jmeppley delonglab 4.2K Oct 11 18:15 split_db_mult.py\n",
      "-rwxr-xr-x. 1 jmeppley delonglab  14K Oct 11 18:15 plot_counts.py\n"
     ]
    }
   ],
   "source": [
    "!ls -lrth *.py"
   ]
  },
  {
   "cell_type": "markdown",
   "metadata": {},
   "source": [
    "#### split_db_mult.py\n",
    "This splits the counts into multiple tables, one per taxonomic group\n",
    "\n",
    "#### plot_counts.py\n",
    "This takes one taxon specific table and generates a PDF of plots."
   ]
  },
  {
   "cell_type": "markdown",
   "metadata": {},
   "source": [
    "## Splitting the DB by taxa"
   ]
  },
  {
   "cell_type": "markdown",
   "metadata": {},
   "source": [
    "We can run the script to get a description of what it does and how to use it:"
   ]
  },
  {
   "cell_type": "code",
   "execution_count": 8,
   "metadata": {},
   "outputs": [
    {
     "name": "stdout",
     "output_type": "stream",
     "text": [
      "This script will take:\n",
      "\n",
      "    * combined table of gene counts and annotations \n",
      "    * clade definitions YAML\n",
      "\n",
      "it will produce:\n",
      "\n",
      "    * table of annotated counts for each  requested clade\n",
      "\n",
      "Output table files will be named with the input file plus the clade name\n",
      "unless a naming prefix is given iwth -o <prefix>\n",
      "\n",
      "Usage:\n",
      "  split_table_mult.py [options] <annot_counts> <tax_yaml>\n",
      "  split_table_mult.py -h | --help\n",
      "  split_table_mult.py --version\n",
      "\n",
      "Options:\n",
      "  -h --help     Show this screen.\n",
      "  --version     Show version.\n",
      "  -o <out_base> Name output files with this prefix\n"
     ]
    }
   ],
   "source": [
    "!./split_db_mult.py -h"
   ]
  },
  {
   "cell_type": "markdown",
   "metadata": {},
   "source": [
    "I've also provided an example taxon definitions file with two groups defined:\n",
    "\n",
    " * Crocosphaera: a single genus\n",
    " * Prochlorococcus: a family with a bunch of genera excluded"
   ]
  },
  {
   "cell_type": "code",
   "execution_count": 7,
   "metadata": {},
   "outputs": [
    {
     "name": "stdout",
     "output_type": "stream",
     "text": [
      "Crocosphaera:\n",
      "    keep:\n",
      "        genus:\n",
      "            - Crocosphaera\n",
      "Prochlorococcus:\n",
      "    keep:\n",
      "        family:\n",
      "            - Cyanobiaceae\n",
      "    drop:\n",
      "        genus:\n",
      "            - Synechococcus_C\n",
      "            - Vulcanococcus\n",
      "            - Unknown\n",
      "            - Synechococcus_D\n",
      "            - PCC7001\n",
      "            - RCC307\n",
      "            - BAIKAL-G1\n",
      "            - Cyanobium\n",
      "            - Synechococcus_B\n",
      "            - WH-5701\n"
     ]
    }
   ],
   "source": [
    "!cat tax.defs.yaml"
   ]
  },
  {
   "cell_type": "markdown",
   "metadata": {},
   "source": [
    "Using the above YAML file, we can split an annotated table of counts into multipl tables, one per each taxon:"
   ]
  },
  {
   "cell_type": "code",
   "execution_count": 11,
   "metadata": {},
   "outputs": [],
   "source": [
    "#Norm expression data annotated\n",
    "Norm_filter_taxa_data_file = \"/data/urisheyn/Mesoscope_Trans_counts/20200128PerTimeCourse/transc_per_mL_annot_GTDB/Filtmin10_ERCCnorm_gene_counts_per_mL_annot_GTDB.tsv\"\n",
    "!./split_db_mult.py {Norm_filter_taxa_data_file} tax.defs.yaml -o tax.counts"
   ]
  },
  {
   "cell_type": "markdown",
   "metadata": {},
   "source": [
    "This should have produced 2 files, one for each group defined in the YAML file:"
   ]
  },
  {
   "cell_type": "code",
   "execution_count": 12,
   "metadata": {},
   "outputs": [
    {
     "name": "stdout",
     "output_type": "stream",
     "text": [
      "tax.counts.Crocosphaera:5359\n",
      "tax.counts.Prochlorococcus:42690\n"
     ]
    }
   ],
   "source": [
    "!grep -c . tax.counts.*"
   ]
  },
  {
   "cell_type": "markdown",
   "metadata": {},
   "source": [
    "Let's peek at them to make sure they look OK"
   ]
  },
  {
   "cell_type": "code",
   "execution_count": 13,
   "metadata": {},
   "outputs": [
    {
     "name": "stdout",
     "output_type": "stream",
     "text": [
      "==> tax.counts.Crocosphaera <==\n",
      "\tMSR00-20a-DL-SL1C04-0015\tMSR00-20a-DL-SL1C06-0015\tMSR00-20a-DL-SL1C09-0015\tMSR00-20a-DL-SL1C10-0015\tMSR00-20a-DL-SL1C11-0015\n",
      "CSHLIID00-20a-S06C001-0015-151211_c100857_1\t0.0\t24.90813\t19.483435\t0.0\t0.0\n",
      "CSHLIID00-20a-S06C001-0015-151211_c100857_10\t0.0\t49.81626\t272.76809000000003\t196.5264734299517\t488.79280434782606\n",
      "\n",
      "==> tax.counts.Prochlorococcus <==\n",
      "\tMSR00-20a-DL-SL1C04-0015\tMSR00-20a-DL-SL1C06-0015\tMSR00-20a-DL-SL1C09-0015\tMSR00-20a-DL-SL1C10-0015\tMSR00-20a-DL-SL1C11-0015\n",
      "CSHLIID00-20a-S06C001-0015-151211_c105159_1\t64.41768421052632\t49.81626\t214.317785\t393.0529468599034\t293.27568260869566\n",
      "CSHLIID00-20a-S06C001-0015-151211_c108002_1\t64.41768421052632\t49.81626\t97.417175\t343.92132850241546\t195.51712173913043\n"
     ]
    }
   ],
   "source": [
    "!head -n 3 tax.counts.* | cut -f-6"
   ]
  },
  {
   "cell_type": "markdown",
   "metadata": {},
   "source": [
    "## Plotting\n",
    "The plotting script is incomplete at this point. Currently it does this:\n",
    "\n",
    " * bar plots of counts at various taxonomic ranks\n",
    " * line plots of counts\n",
    " * puts them all in one PDF"
   ]
  },
  {
   "cell_type": "code",
   "execution_count": 15,
   "metadata": {},
   "outputs": [
    {
     "name": "stdout",
     "output_type": "stream",
     "text": [
      "Usage:\n",
      "  plot_counts.py <tax_name> <count_file> <pdf_file>\n",
      "  plot_counts.py -h | --help\n",
      "  plot_counts.py --version\n",
      "\n",
      "Options:\n",
      "  -h --help     Show this screen.\n",
      "  --version     Show version.\n"
     ]
    }
   ],
   "source": [
    "!./plot_counts.py -h"
   ]
  },
  {
   "cell_type": "code",
   "execution_count": 16,
   "metadata": {},
   "outputs": [],
   "source": [
    "!./plot_counts.py Crocosphaera tax.counts.Crocosphaera Crocosphaera.pdf"
   ]
  },
  {
   "cell_type": "code",
   "execution_count": 17,
   "metadata": {},
   "outputs": [
    {
     "name": "stdout",
     "output_type": "stream",
     "text": [
      "-rw-r--r--. 1 jmeppley delonglab 249K Oct 11 18:39 Crocosphaera.pdf\n"
     ]
    }
   ],
   "source": [
    "!ls -lrth *pdf"
   ]
  }
 ],
 "metadata": {
  "kernelspec": {
   "display_name": "Python [conda env:miniconda3-jupy]",
   "language": "python",
   "name": "conda-env-miniconda3-jupy-py"
  },
  "language_info": {
   "codemirror_mode": {
    "name": "ipython",
    "version": 3
   },
   "file_extension": ".py",
   "mimetype": "text/x-python",
   "name": "python",
   "nbconvert_exporter": "python",
   "pygments_lexer": "ipython3",
   "version": "3.6.7"
  }
 },
 "nbformat": 4,
 "nbformat_minor": 4
}
